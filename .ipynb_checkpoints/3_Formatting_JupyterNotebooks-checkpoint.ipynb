{
 "cells": [
  {
   "cell_type": "markdown",
   "id": "1b4f816f-1caa-4697-bbec-61299c54ecf3",
   "metadata": {},
   "source": [
    "<a href=\"https://colab.research.google.com/github/hewp84/ATMAE_workshop/blob/main/3_Formatting_JupyterNotebooks.ipynb\" target=\"_parent\"><img src=\"https://colab.research.google.com/assets/colab-badge.svg\" alt=\"Open In Colab\"/></a>"
   ]
  },
  {
   "cell_type": "markdown",
   "id": "42153187-62d6-428f-8d10-99e7e93e2107",
   "metadata": {
    "tags": []
   },
   "source": [
    "# Formatting Jupyter Notebooks\n",
    "## 3. Working with Cells\n",
    "### 3.1. Types of Cells (Code, Markdown, and Raw)\n",
    "* Code Cells: Allows you to input and execute programming code. Outputs appear beneath the code after execution.\n",
    "* Markdown Cells: Used for documenting your findings, adding headings, or any non-code related text. Supports Markdown syntax and HTML.\n",
    "* Raw Cells: These are unformatted and are used when you want to include code that shouldn't be executed.\n"
   ]
  },
  {
   "cell_type": "markdown",
   "id": "8eba0e08-64da-456a-ae19-b256ba8d8332",
   "metadata": {},
   "source": [
    "### 3.2. Running Cells\n",
    "* To run a cell, press Shift + Enter. This executes the current cell and moves to the next one.\n",
    "* Ctrl + Enter runs the current cell without moving to the next.\n",
    "* Alt + Enter runs the current cell and inserts a new cell below."
   ]
  },
  {
   "cell_type": "markdown",
   "id": "342b9053-c796-4cbc-8551-e7c4ff291d91",
   "metadata": {},
   "source": [
    "### 3.3. Editing, Deleting, and Moving Cells\n",
    "* Editing: Simply click on a cell to edit its content.\n",
    "* Deleting: Select a cell and press the d key twice.\n",
    "* Moving: Drag a cell up or down using the mouse, or use the up and down arrows in the toolbar.\n"
   ]
  },
  {
   "cell_type": "markdown",
   "id": "2170edba-ab3b-4a7b-ac62-2960aef141d2",
   "metadata": {},
   "source": [
    "### 3.4. Keyboard Shortcuts\n",
    "* Esc puts you in command mode, where you can navigate and manipulate cells.\n",
    "* Enter puts you in edit mode, where you can edit cell content.\n",
    "* M changes the current cell to Markdown.\n",
    "* Y changes it to a code cell.\n",
    "* A/B inserts a new cell above/below the current cell."
   ]
  },
  {
   "cell_type": "markdown",
   "id": "71f2e4fc-7f78-4acd-a18a-b1a2f8e8682d",
   "metadata": {
    "tags": []
   },
   "source": [
    "## 4. Writing and Executing Code\n",
    "### 4.1. Simple Python Code Execution\n",
    "Simply type Python code in a code cell and run it. For example, print(\"Hello, Jupyter!\")."
   ]
  },
  {
   "cell_type": "code",
   "execution_count": null,
   "id": "e0438a00-f3b3-436c-be58-606a9c037ad8",
   "metadata": {},
   "outputs": [],
   "source": []
  },
  {
   "cell_type": "markdown",
   "id": "60a5f4fd-5528-4077-9435-7d22e7236c85",
   "metadata": {
    "tags": []
   },
   "source": [
    "### 4.2. Magic Commands\n",
    "Magic commands are prefixed with % and provide useful shortcuts.\n",
    "\n",
    "#### 4.2.1. Line magics (%)\n",
    "Operate on a single line.\n",
    "* Examples:\n",
    "    * `%time`: Times the execution of a single statement.\n",
    "    * `%pwd`: Shows the current working directory."
   ]
  },
  {
   "cell_type": "code",
   "execution_count": null,
   "id": "62f02516-8438-4f66-bcb1-f83d94c72c38",
   "metadata": {
    "tags": []
   },
   "outputs": [],
   "source": [
    "# Using %time to time the execution of a list comprehension\n",
    "%time squares = [i**2 for i in range(1000)]\n",
    "print(squares)"
   ]
  },
  {
   "cell_type": "markdown",
   "id": "e2a96203-92b2-4c3f-8160-287808384901",
   "metadata": {},
   "source": [
    "#### 4.2.2. Cell magics (%%)\n",
    "Operate on multiple lines or the entire cell.\n",
    "* Examples:\n",
    "    * `%%time`: Times the execution of the entire cell.\n",
    "    * `%%writefile`: Writes the cell content to a file."
   ]
  },
  {
   "cell_type": "code",
   "execution_count": null,
   "id": "31e6edf1-56d8-4ca6-93f4-40554e5dd2d5",
   "metadata": {
    "tags": []
   },
   "outputs": [],
   "source": [
    "%%writefile my_file.docx\n",
    "This is a sample text.\n",
    "It will be written to a file named \"my_file.txt\"."
   ]
  },
  {
   "cell_type": "markdown",
   "id": "030e858c-54eb-4429-b84f-ff19ed499655",
   "metadata": {},
   "source": [
    "### 4.3. Visualizations in Jupyter\n",
    "#### 4.3.1. Using Matplotlib and Seaborn\n",
    "* To display visualizations in the notebook, use `%matplotlib inline`.\n",
    "* Plot graphs using libraries like Matplotlib: `import matplotlib.pyplot as plt`."
   ]
  },
  {
   "cell_type": "code",
   "execution_count": null,
   "id": "a309671a-3018-4aad-a5fa-a21cdfa4201d",
   "metadata": {
    "tags": []
   },
   "outputs": [],
   "source": [
    "# To display visualizations in the notebook\n",
    "%matplotlib inline\n",
    "import matplotlib.pyplot as plt\n",
    "import seaborn as sns\n",
    "import numpy as np\n",
    "\n",
    "# Generate some example data\n",
    "x = np.linspace(0, 10, 100)\n",
    "y = np.sin(x)\n",
    "\n",
    "# Simple line plot using Matplotlib\n",
    "plt.figure(figsize=(10, 6))\n",
    "plt.plot(x, y, label='sin(x)')\n",
    "plt.title('Simple Line Plot')\n",
    "plt.xlabel('x values')\n",
    "plt.ylabel('y values')\n",
    "plt.legend()\n",
    "plt.grid(True)\n",
    "plt.show()\n",
    "\n",
    "# Histogram using Seaborn\n",
    "data = np.random.randn(1000)\n",
    "sns.histplot(data, kde=True, color=\"skyblue\", bins=30)\n",
    "plt.title('Histogram with Seaborn')\n",
    "plt.xlabel('Value')\n",
    "plt.ylabel('Frequency')\n",
    "plt.show()\n"
   ]
  },
  {
   "cell_type": "markdown",
   "id": "0a3f9a6e-9f6d-46e9-918d-cc89d3772fc6",
   "metadata": {},
   "source": [
    "#### 4.3.2. Interactive Visualizations with Plotly\n",
    "Plotly provides interactive graphs.\n",
    "* Example: `import plotly.express as px`."
   ]
  },
  {
   "cell_type": "code",
   "execution_count": null,
   "id": "55b0301e-7882-4d8f-abc4-2d875e95a5ed",
   "metadata": {
    "tags": []
   },
   "outputs": [],
   "source": [
    "import plotly.express as px\n",
    "\n",
    "# Sample data for scatter plot\n",
    "df = px.data.iris()\n",
    "\n",
    "# Interactive scatter plot using Plotly\n",
    "fig = px.scatter(df, x=\"sepal_width\", y=\"sepal_length\", color=\"species\",\n",
    "                 size='petal_length', hover_data=['petal_width'])\n",
    "fig.show()\n"
   ]
  },
  {
   "cell_type": "markdown",
   "id": "d2587e72-b001-4450-86fe-987a598180f0",
   "metadata": {},
   "source": [
    "### 4.4. Handling Errors and Debugging\n",
    "* Errors in code are displayed as output.\n",
    "* Use Python's debugging tools (pdb) for more complex issues."
   ]
  },
  {
   "cell_type": "code",
   "execution_count": null,
   "id": "f3645b18-0e08-4a80-b856-76c972d0dbcc",
   "metadata": {},
   "outputs": [],
   "source": []
  },
  {
   "cell_type": "markdown",
   "id": "daf17870-ee05-4692-b19b-e1c8db544500",
   "metadata": {},
   "source": [
    "## 5. Using Markdown\n",
    "### 5.1. Basic Markdown Syntax\n",
    "#### 5.1.1. Headers\n",
    "Use # for headers. The number of # indicates the header level.\n",
    "* Examples:\n",
    "    * `# Header 1`\n",
    "    * `## Header 2`\n",
    "    * `### Header 3`\n",
    "    * `#### Header 4`\n",
    "    * `##### Header 5`\n",
    "    * `###### Header 6`"
   ]
  },
  {
   "cell_type": "code",
   "execution_count": null,
   "id": "064ec7d7-47ca-4fdd-b032-129600e28f21",
   "metadata": {},
   "outputs": [],
   "source": []
  },
  {
   "cell_type": "markdown",
   "id": "081f78f2-f338-4616-8e76-af96db15b8e1",
   "metadata": {},
   "source": [
    "#### 5.1.2. Lists\n",
    "* Use `-` or `*` for bullet lists.\n",
    "* Numbered lists use `1.`."
   ]
  },
  {
   "cell_type": "code",
   "execution_count": null,
   "id": "3bcc5031-ca95-4f4b-975e-b0585233b53a",
   "metadata": {},
   "outputs": [],
   "source": []
  },
  {
   "cell_type": "markdown",
   "id": "926a33b9-6ac5-4999-8a8a-ee20fa466f21",
   "metadata": {},
   "source": [
    "#### 5.1.3. Links and Images\n",
    "* Links: `[link text](URL)`.\n",
    "* Images: `![alt text](URL)`."
   ]
  },
  {
   "cell_type": "code",
   "execution_count": null,
   "id": "b463278a-0cff-4026-b64f-d4dd0e9e72cf",
   "metadata": {},
   "outputs": [],
   "source": []
  },
  {
   "cell_type": "markdown",
   "id": "1f2b0a61-f2e1-44f2-93cc-e0c5420591af",
   "metadata": {},
   "source": [
    "#### 5.1.4. Emphasis (Bold, Italic)\n",
    "* Italic: `*text*` or `_text_`.\n",
    "* Bold: `**text**` or `__text__`.\n",
    "* Shade: '`text`'"
   ]
  },
  {
   "cell_type": "code",
   "execution_count": null,
   "id": "f8ce0d30-c442-49f0-9df5-74aa3f42d29c",
   "metadata": {},
   "outputs": [],
   "source": []
  },
  {
   "cell_type": "markdown",
   "id": "eab48956-230d-432c-8f18-eb0c4b08164d",
   "metadata": {},
   "source": [
    "### 5.2. Advanced Markdown\n",
    "#### 5.2.1. Tables\n",
    "\n",
    "`| Header 1 | Header 2 |\n",
    "|----------|----------|\n",
    "| Cell 1A  | Cell 1B  |\n",
    "| Cell 2A  | Cell 2B  |`"
   ]
  },
  {
   "cell_type": "code",
   "execution_count": null,
   "id": "cc6904fe-9d12-40d1-813e-2d938692f6c0",
   "metadata": {},
   "outputs": [],
   "source": []
  },
  {
   "cell_type": "markdown",
   "id": "7cd7e2bf-adf1-485e-8ced-031ff0562be3",
   "metadata": {},
   "source": [
    "#### 5.2.2. LaTeX for Mathematical Equations\n",
    "Enclose LaTeX in `$` for inline math and `$$` for block equations.\n",
    "Example: `$e^{i\\pi} + 1 = 0$`."
   ]
  },
  {
   "cell_type": "markdown",
   "id": "25f6f845-3520-4d77-a4bd-44f2c2b80788",
   "metadata": {},
   "source": []
  },
  {
   "cell_type": "markdown",
   "id": "3fe23cf8-07de-41cd-9c83-b135cac6be34",
   "metadata": {},
   "source": [
    "### 5.3. Embedding Videos\n",
    "You can embed videos using HTML tags within a Markdown cell."
   ]
  },
  {
   "cell_type": "code",
   "execution_count": null,
   "id": "f6bbbce6-cb31-44bb-9082-fba02d420ef2",
   "metadata": {},
   "outputs": [],
   "source": [
    "<video width=\"320\" height=\"240\" controls>\n",
    "  <source src=\"path_to_video.mp4\" type=\"video/mp4\">\n",
    "Your browser does not support the video tag.\n",
    "</video>\n"
   ]
  },
  {
   "cell_type": "code",
   "execution_count": null,
   "id": "3b6894eb-c06b-4596-8f7b-dabdccf6b317",
   "metadata": {},
   "outputs": [],
   "source": []
  },
  {
   "cell_type": "markdown",
   "id": "59483c74-798d-4a70-a1e9-41b69429690e",
   "metadata": {},
   "source": [
    "### 5.4. Embedding YouTube Videos\n",
    "Jupyter has built-in support for displaying YouTube videos using the `YouTubeVideo` function from the `IPython.display` module."
   ]
  },
  {
   "cell_type": "code",
   "execution_count": null,
   "id": "bc13ade2-b0f6-4002-884c-500b5caede81",
   "metadata": {
    "tags": []
   },
   "outputs": [],
   "source": [
    "from IPython.display import YouTubeVideo\n",
    "YouTubeVideo('YouTube_video_id')  #Not the URL, but the Youtube video id which is within the URL\n"
   ]
  },
  {
   "cell_type": "code",
   "execution_count": null,
   "id": "6640f98a-55e2-48ff-b8a8-ec179de10315",
   "metadata": {},
   "outputs": [],
   "source": []
  },
  {
   "cell_type": "markdown",
   "id": "6a34772c-c6d3-48a7-b46c-25a6439a1315",
   "metadata": {},
   "source": [
    "### 5.5. Embedding HTML Pages\n",
    "If you want to display an entire web page, you can use the IFrame function from the `IPython.display module`."
   ]
  },
  {
   "cell_type": "code",
   "execution_count": null,
   "id": "724490ed-f4de-4e69-a522-7d1dd4417339",
   "metadata": {
    "tags": []
   },
   "outputs": [],
   "source": [
    "from IPython.display import IFrame\n",
    "IFrame('https://www.example.com', width=800, height=450)\n"
   ]
  },
  {
   "cell_type": "code",
   "execution_count": null,
   "id": "1067cd2c-6738-4056-a404-881bcc7fbf5b",
   "metadata": {},
   "outputs": [],
   "source": []
  }
 ],
 "metadata": {
  "kernelspec": {
   "display_name": "Python 3 (ipykernel)",
   "language": "python",
   "name": "python3"
  },
  "language_info": {
   "codemirror_mode": {
    "name": "ipython",
    "version": 3
   },
   "file_extension": ".py",
   "mimetype": "text/x-python",
   "name": "python",
   "nbconvert_exporter": "python",
   "pygments_lexer": "ipython3",
   "version": "3.11.3"
  }
 },
 "nbformat": 4,
 "nbformat_minor": 5
}
