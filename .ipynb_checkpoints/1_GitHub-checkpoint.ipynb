{
 "cells": [
  {
   "cell_type": "markdown",
   "id": "b06a6436-b1bc-4b72-9e93-99e5538f3c43",
   "metadata": {},
   "source": [
    "# Introduction to GitHub\n",
    "\n",
    "GitHub is a platform that allows developers to collaborate on software projects. It utilizes Git, a distributed version control system.\n",
    "\n",
    "## 1. Setting Up Your GitHub Account\n",
    "#### Step 1: Sign Up\n",
    "* Go to GitHub.\n",
    "* Click on \"Sign up\".\n",
    "* Fill out the required information and click \"Create account\".\n",
    "#### Step 2: Complete Setup\n",
    "* Choose a plan (Free should be fine for most users to start with).\n",
    "* Answer the optional questions if you'd like, and proceed.\n",
    "## 2. Creating a Repository\n",
    "* A repository (or \"repo\") is where your project will live. It contains all the files, commits, and history of your project.\n",
    "\n",
    "#### Step 1: Create a New Repository\n",
    "* Once logged in, click on the \"+\" icon in the top right corner.\n",
    "* Select \"New repository\".\n",
    "* Name your repository.\n",
    "* Choose whether it should be public (visible to everyone) or private (visible only to you and collaborators you invite).\n",
    "* You can initialize the repository with a README, .gitignore, or a license. For now, initialize with a README.\n",
    "* Click \"Create repository\".\n",
    "## 3. Pull and Push - Basics of Git\n",
    "### pull:\n",
    "* This command fetches the changes from a remote repository (like GitHub) to your local machine. You'd use this to update your local copy with new commits from the remote repo.\n",
    "\n",
    "### push:\n",
    "* This command sends your local commits to the remote repository. When you make a change and commit it locally, you use push to send those changes to the remote repo on GitHub.\n",
    "\n",
    "## 4. GitHub Desktop - GUI for Git\n",
    "#### Step 1: Download and Install\n",
    "* Go to GitHub Desktop's website.\n",
    "* Download and install the application.\n",
    "#### Step 2: Connect to Your Account\n",
    "* Open GitHub Desktop.\n",
    "* Go to File > Options.\n",
    "* Under Accounts, sign in using your GitHub credentials.\n",
    "#### Step 3: Cloning a Repository\n",
    "* Open GitHub Desktop.\n",
    "* Click on \"Clone a Repository\".\n",
    "* Choose the repo you want to clone (usually from the list of your repos).\n",
    "* Choose a local path where you'd like the repo to be stored.\n",
    "* Click \"Clone\".\n",
    "#### Step 4: Making Changes and Committing\n",
    "* Modify or add files in your local repo using any editor.\n",
    "* Open GitHub Desktop.\n",
    "* You'll see the changes listed.\n",
    "* Add a summary (and optional description) for the change.\n",
    "* Click \"Commit to main\" (or the current branch name).\n",
    "#### Step 5: Pushing Changes\n",
    "* After committing, click \"Push origin\" to send the changes to the remote GitHub repo.\n",
    "#### Step 6: Pulling Changes\n",
    "* If you or someone else made changes directly on the GitHub site (or another computer), you'd want to update your local copy.\n",
    "* Click \"Fetch origin\" in GitHub Desktop.\n",
    "* If there are new changes, click \"Pull origin\"."
   ]
  },
  {
   "cell_type": "code",
   "execution_count": null,
   "id": "ef1627ed-a98f-4df5-afad-36657f91ba75",
   "metadata": {},
   "outputs": [],
   "source": []
  }
 ],
 "metadata": {
  "kernelspec": {
   "display_name": "Python 3 (ipykernel)",
   "language": "python",
   "name": "python3"
  },
  "language_info": {
   "codemirror_mode": {
    "name": "ipython",
    "version": 3
   },
   "file_extension": ".py",
   "mimetype": "text/x-python",
   "name": "python",
   "nbconvert_exporter": "python",
   "pygments_lexer": "ipython3",
   "version": "3.11.3"
  }
 },
 "nbformat": 4,
 "nbformat_minor": 5
}
