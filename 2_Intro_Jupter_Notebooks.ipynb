{
 "cells": [
  {
   "cell_type": "markdown",
   "id": "68149a3e-7eb5-41c6-9cb1-9311c9d8f565",
   "metadata": {},
   "source": [
    "<a href=\"https://colab.research.google.com/github/hewp84/ATMAE_workshop/blob/main/2_Intro_Jupter_Notebooks.ipynb\" target=\"_parent\"><img src=\"https://colab.research.google.com/assets/colab-badge.svg\" alt=\"Open In Colab\"/></a>"
   ]
  },
  {
   "cell_type": "markdown",
   "id": "4428c1d8-85d3-41ac-868e-5e87ea56ddc8",
   "metadata": {},
   "source": [
    "# Introduction to Jupyter Notebooks\n",
    "\n",
    "## 1. Introduction to Jupyter Notebooks\n",
    "### 1.1. What are Jupyter Notebooks?\n",
    "Jupyter Notebooks are open-source interactive web applications that allow users to create and share documents containing live code, equations, visualizations, and narrative text. The term \"Jupyter\" is derived from the core supported programming languages: Julia, Python, and R.\n",
    "\n",
    "### 1.2. Why use Jupyter Notebooks?\n",
    "* Interactivity: Jupyter Notebooks allow for interactive coding, making it easier to test and debug code in real-time.\n",
    "* Visualization: Integrated support for visualizations with libraries like Matplotlib and Seaborn.\n",
    "* Documentation: Combining code with narrative text helps in explaining complex ideas, making it an excellent tool for teaching and presentations.\n",
    "* Flexibility: Supports multiple languages and can be easily integrated with other tools and platforms.\n",
    "* Reproducibility: Ensures that experiments, data analyses, and tutorials can be easily reproduced by others.\n",
    "### 1.3. Jupyter vs. other IDEs\n",
    "While traditional IDEs (Integrated Development Environments) like PyCharm, Eclipse, or VSCode are designed for software development, Jupyter Notebooks are tailored for data analysis, scientific computing, and educational purposes. Key differences include:\n",
    "\n",
    "* Nature: IDEs are application-based, while Jupyter is web-based.\n",
    "* Purpose: IDEs are suited for large-scale projects, whereas Jupyter is more for interactive experimentation.\n",
    "* Interactivity: Immediate feedback in Jupyter due to cell-by-cell execution.\n",
    "* Integration: Jupyter integrates markdown and code in one document.\n",
    "\n",
    "\n",
    "\n",
    "\n",
    "\n"
   ]
  },
  {
   "cell_type": "markdown",
   "id": "7d4ace3c-eb69-4dde-a98f-dd399d23cfe2",
   "metadata": {},
   "source": [
    "## 2. Getting Started with Jupyter\n",
    "### 2.1. Installation\n",
    "#### 2.1.1. Jupyter Installation via Anaconda\n",
    "For an integrated environment with many data science tools pre-installed, Jupyter can be set up using Anaconda:\n",
    "\n",
    "* Visit [Anaconda's official website](https://anaconda.org/).\n",
    "* Download the Anaconda installer suitable for your operating system.\n",
    "* Run the downloaded installer and follow the on-screen instructions.\n",
    "* Once installation is complete, open the Anaconda Navigator.\n",
    "* From the Navigator, launch Jupyter Notebook.\n",
    "\n",
    "#### 2.1.2. Alternative: Using Google Colaboratory\n",
    "Google Colaboratory, often referred to as Colab, is a web-based platform that provides a similar environment to Jupyter Notebook:\n",
    "\n",
    "* Visit Google Colaboratory.\n",
    "* Sign in using a Google account.\n",
    "* Click on 'New Notebook' to start a fresh Jupyter-like notebook in your browser.\n",
    "\n",
    "#### Comparison: Anaconda's Jupyter vs. Google Colab\n",
    "\n",
    "**Pros of using Anaconda's Jupyter:**\n",
    "\n",
    "* Local Environment: Runs on your own machine, utilizing its resources.\n",
    "* Customizability: Can be customized with various extensions and libraries without restrictions.\n",
    "* Offline Access: Available offline, as everything is hosted on your computer.\n",
    "\n",
    "**Cons of using Anaconda's Jupyter:**\n",
    "\n",
    "* Setup Overhead: Requires initial setup and manual updates for libraries and tools.\n",
    "* Resource Limitation: Limited by your machine's computational resources.\n",
    "\n",
    "**Pros of using Google Colab:**\n",
    "\n",
    "* Zero Setup: No installation required; just use a browser.\n",
    "* Free GPU Access: Provides free access to Graphics Processing Units (GPUs) for heavy computations.\n",
    "* Easy Sharing: Notebooks can be easily shared just like Google Docs.\n",
    "\n",
    "**Cons of using Google Colab:**\n",
    "\n",
    "* Internet Dependency: Requires an active internet connection.\n",
    "* Session Limitations: VM sessions are temporary and can be reset, losing all data in the environment.\n",
    "* Limited Customizability: Extensions and some custom settings might not be supported.\n"
   ]
  },
  {
   "cell_type": "markdown",
   "id": "2c9af2d6-8074-4ddc-8012-6aad1b3cbfe7",
   "metadata": {},
   "source": [
    "### 2.2. Launching Jupyter Notebook\n",
    "After installation:\n",
    "\n",
    "Open a terminal or command prompt.\n",
    "Navigate to your desired directory using cd <directory_name>.\n",
    "Run the command jupyter notebook.\n",
    "A new browser window/tab should open with the Jupyter Notebook interface, showing the files in your current directory."
   ]
  },
  {
   "cell_type": "markdown",
   "id": "8224b61c-2846-4b34-a4d9-7dc69ac03736",
   "metadata": {},
   "source": [
    "### 2.3. Notebook Interface Basics\n",
    "#### 2.3.1. Menu bar\n",
    "The menu bar at the top provides options to:\n",
    "\n",
    "* File: Create a new notebook, open an existing one, save, rename, and download notebooks.\n",
    "* Edit: Cut, copy, paste, and delete cells.\n",
    "* View: Adjust the user interface display settings.\n",
    "* Insert: Insert new cells into the notebook.\n",
    "* Kernel: Start, restart, or stop the execution kernel."
   ]
  },
  {
   "cell_type": "markdown",
   "id": "9bf99eaf-e451-4c6b-8256-92506980bc82",
   "metadata": {},
   "source": [
    "#### 2.3.2. Toolbar\n",
    "Below the menu bar, the toolbar provides shortcuts for common actions, like adding new cells, running cells, and adjusting cell types."
   ]
  },
  {
   "cell_type": "markdown",
   "id": "f2f96a2b-4c09-42b2-9511-03aa4a61a654",
   "metadata": {},
   "source": [
    "#### 2.3.3. Cells\n",
    "The main area of a notebook consists of cells. There are three types of cells:\n",
    "\n",
    "* Code Cells: Allow you to write and run code.\n",
    "* Markdown Cells: Used for adding text, which can include markdown formatting for headers, lists, links, and more.\n",
    "* Raw Cells: Allow you to write output directly, without execution.\n",
    "* To execute a cell, press Shift + Enter. The output will appear below the cell."
   ]
  },
  {
   "cell_type": "code",
   "execution_count": null,
   "id": "50b5791b-8d67-4997-a1c9-89e0a67bbc2d",
   "metadata": {},
   "outputs": [],
   "source": []
  }
 ],
 "metadata": {
  "kernelspec": {
   "display_name": "Python 3 (ipykernel)",
   "language": "python",
   "name": "python3"
  },
  "language_info": {
   "codemirror_mode": {
    "name": "ipython",
    "version": 3
   },
   "file_extension": ".py",
   "mimetype": "text/x-python",
   "name": "python",
   "nbconvert_exporter": "python",
   "pygments_lexer": "ipython3",
   "version": "3.11.3"
  }
 },
 "nbformat": 4,
 "nbformat_minor": 5
}
