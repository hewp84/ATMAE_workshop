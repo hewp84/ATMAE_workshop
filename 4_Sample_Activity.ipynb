{
 "cells": [
  {
   "cell_type": "markdown",
   "id": "1923e4a6-e1e3-4dea-a290-9ec1ccf5cd62",
   "metadata": {},
   "source": [
    "# Physics Lab: Pendulum Properties\n",
    "### Learning Goal:\n",
    "* To study the relationship between the length and period of a pendulum and the relationship between the mass and period of a pendulum.\n",
    "\n",
    "### Simulation\n",
    "PhET Laboratory:\n",
    "Visit the PhET interactive simulation for \"Pendulum Lab\".\n",
    "\n",
    "Pendulum Lab Simulation Link\n",
    "https://phet.colorado.edu/en/simulations/pendulum-lab/about\n"
   ]
  },
  {
   "cell_type": "code",
   "execution_count": null,
   "id": "97005b82-3627-49e1-ac9c-2eb9b865884d",
   "metadata": {
    "tags": []
   },
   "outputs": [],
   "source": [
    "from IPython.display import IFrame\n",
    "IFrame('https://phet.colorado.edu/sims/html/pendulum-lab/latest/pendulum-lab_all.html', width=800, height=450)\n"
   ]
  },
  {
   "cell_type": "markdown",
   "id": "ae6c2bd8-08fb-4e0a-a58f-fed787876424",
   "metadata": {},
   "source": [
    "### Data Collection:\n",
    "1. Length vs Period:\n",
    "Adjust the pendulum to a constant mass. Change the length of the pendulum and measure the period for each length. Record at least 5 values."
   ]
  },
  {
   "cell_type": "code",
   "execution_count": null,
   "id": "4087024f-7867-475c-9dd5-4705342c6b31",
   "metadata": {
    "tags": []
   },
   "outputs": [],
   "source": [
    "# Data Collection for Length vs Period\n",
    "\n",
    "# Example data: (length, period)\n",
    "# You should replace this data with what you collect from the PhET simulation.\n",
    "\n",
    "length_vs_period_data = [\n",
    "    (0.25, 1.0),\n",
    "    (0.50, 1.4),\n",
    "    (1.00, 2.0),\n",
    "    (1.50, 2.45),\n",
    "    (2.00, 2.8)\n",
    "]\n",
    "\n",
    "lengths = [item[0] for item in length_vs_period_data]\n",
    "periods_length = [item[1] for item in length_vs_period_data]\n"
   ]
  },
  {
   "cell_type": "markdown",
   "id": "8262d90c-34fb-411c-ba88-7330cc202f2b",
   "metadata": {},
   "source": [
    "2. Mass vs Period:\n",
    "Adjust the pendulum to a constant length. Change the mass of the pendulum and measure the period for each mass. Record at least 5 values."
   ]
  },
  {
   "cell_type": "code",
   "execution_count": null,
   "id": "836bac7a-b733-4c38-bdca-63eb794c7082",
   "metadata": {
    "tags": []
   },
   "outputs": [],
   "source": [
    "# Data Collection for Mass vs Period\n",
    "\n",
    "# Example data: (mass, period)\n",
    "# You should replace this data with what you collect from the PhET simulation.\n",
    "\n",
    "mass_vs_period_data = [\n",
    "    (0.5, 2.0),\n",
    "    (1.0, 2.0),\n",
    "    (1.5, 2.0),\n",
    "    (2.0, 2.0),\n",
    "    (2.5, 2.0)\n",
    "]\n",
    "\n",
    "masses = [item[0] for item in mass_vs_period_data]\n",
    "periods_mass = [item[1] for item in mass_vs_period_data]\n"
   ]
  },
  {
   "cell_type": "markdown",
   "id": "b2046573-4e2b-49ce-81bb-f1147b5d9353",
   "metadata": {},
   "source": [
    "### Data Plotting:\n",
    "1. Length vs Period:"
   ]
  },
  {
   "cell_type": "code",
   "execution_count": null,
   "id": "91ec4a9a-662a-4e5e-b8c7-8ed57e8a6014",
   "metadata": {
    "tags": []
   },
   "outputs": [],
   "source": [
    "import matplotlib.pyplot as plt\n",
    "\n",
    "plt.figure(figsize=(10, 6))\n",
    "plt.plot(lengths, periods_length, 'o-', label='Period vs Length')\n",
    "plt.title(\"Period vs. Length of Pendulum\")\n",
    "plt.xlabel(\"Length (m)\")\n",
    "plt.ylabel(\"Period (s)\")\n",
    "plt.grid(True)\n",
    "plt.legend()\n",
    "plt.show()\n"
   ]
  },
  {
   "cell_type": "markdown",
   "id": "5e7973f8-e8b3-48c2-837b-ddbc2a422873",
   "metadata": {},
   "source": [
    "2. Mass vs Period:"
   ]
  },
  {
   "cell_type": "code",
   "execution_count": null,
   "id": "687492bf-3ce3-4dce-a31c-8988d5f8006a",
   "metadata": {
    "tags": []
   },
   "outputs": [],
   "source": [
    "#Adapt the code from \"1. Length vs Period\" to plot the relationship between Mass vs Period.\n",
    "\n"
   ]
  },
  {
   "cell_type": "markdown",
   "id": "80e6a7f2-39e0-4c75-ba23-2fe268c1d8be",
   "metadata": {
    "tags": []
   },
   "source": [
    "$T=2\\pi\\sqrt{\\frac{L}{g}}$"
   ]
  },
  {
   "cell_type": "code",
   "execution_count": null,
   "id": "341d8508-ef54-4524-bd29-7c5e020f7e8c",
   "metadata": {},
   "outputs": [],
   "source": []
  }
 ],
 "metadata": {
  "kernelspec": {
   "display_name": "Python 3 (ipykernel)",
   "language": "python",
   "name": "python3"
  },
  "language_info": {
   "codemirror_mode": {
    "name": "ipython",
    "version": 3
   },
   "file_extension": ".py",
   "mimetype": "text/x-python",
   "name": "python",
   "nbconvert_exporter": "python",
   "pygments_lexer": "ipython3",
   "version": "3.11.3"
  }
 },
 "nbformat": 4,
 "nbformat_minor": 5
}
