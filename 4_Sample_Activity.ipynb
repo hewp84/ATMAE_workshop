{
 "cells": [
  {
   "cell_type": "markdown",
   "id": "1923e4a6-e1e3-4dea-a290-9ec1ccf5cd62",
   "metadata": {},
   "source": [
    "# Physics Lab: Pendulum Properties\n",
    "### Learning Goal:\n",
    "* To study the relationship between the length and period of a pendulum and the relationship between the mass and period of a pendulum.\n",
    "\n"
   ]
  },
  {
   "cell_type": "markdown",
   "id": "956a9baa-2877-42a4-8a4e-9ffb3317a816",
   "metadata": {},
   "source": [
    "A pendulum is one of the most fundamental and well-understood systems in physics. The basic setup of a pendulum consists of a mass (often called the \"bob\") attached to the end of a string or rod of some length, which swings back and forth under the influence of gravity. There are many types of pendulums, but for this lab, we'll focus on the simple pendulum, which assumes:\n",
    "\n",
    "* The string or rod is massless and inextensible.\n",
    "* The bob, which is the mass at the end of the string or rod, is a point mass.\n",
    "* The motion of the pendulum is in a plane and is driven solely by the force of gravity.\n",
    "* The amplitude of the oscillations is small, which ensures the motion is simple harmonic.\n",
    "\n",
    "#### Key Properties:\n",
    "Length (`L`): The length of the pendulum is the distance from the pivot point to the center of the bob.\n",
    "\n",
    "* Mass (`m`): Refers to the mass of the bob.\n",
    "\n",
    "* Period (`T`): The period of the pendulum is the time it takes for the pendulum to complete one full swing, from its starting position, to its furthest point, and back again.\n",
    "\n",
    "* Gravity (`g`): The acceleration due to gravity, which is approximately $9.81 m/s^2$ near the surface of the Earth.\n",
    "\n",
    "#### Governing Equation:\n",
    "The motion of a simple pendulum can be described using the following equation:\n",
    "\n",
    "$T=2\\pi\\sqrt{\\frac{L}{g}}$\n",
    "\n",
    "This equation represents the period of a simple pendulum as a function of its length and the acceleration due to gravity.\n",
    "\n",
    "#### Factors Affecting the Period:\n",
    "From the equation, it can be inferred that the period of a simple pendulum should depend on:\n",
    "\n",
    "* The length of the pendulum.\n",
    "* The acceleration due to gravity.\n",
    "\n",
    "However, you might wonder whether other factors, such as the mass of the bob or the amplitude of the swing, play a role. This is part of what the lab aims to investigate."
   ]
  },
  {
   "cell_type": "markdown",
   "id": "59ac16ed-3f13-4a46-b58f-8462c2e3ca8b",
   "metadata": {},
   "source": [
    "### Simulation\n",
    "PhET Laboratory:\n",
    "Visit the PhET interactive simulation for \"Pendulum Lab\".\n",
    "\n",
    "Pendulum Lab Simulation Link\n",
    "https://phet.colorado.edu/en/simulations/pendulum-lab/about\n"
   ]
  },
  {
   "cell_type": "code",
   "execution_count": null,
   "id": "97005b82-3627-49e1-ac9c-2eb9b865884d",
   "metadata": {
    "tags": []
   },
   "outputs": [],
   "source": [
    "from IPython.display import IFrame\n",
    "IFrame('https://phet.colorado.edu/sims/html/pendulum-lab/latest/pendulum-lab_all.html', width=800, height=450)\n"
   ]
  },
  {
   "cell_type": "markdown",
   "id": "ae6c2bd8-08fb-4e0a-a58f-fed787876424",
   "metadata": {},
   "source": [
    "### Data Collection:\n",
    "1. Length vs Period:\n",
    "Adjust the pendulum to a constant mass. Change the length of the pendulum and measure the period for each length. Record at least 5 values."
   ]
  },
  {
   "cell_type": "code",
   "execution_count": null,
   "id": "4087024f-7867-475c-9dd5-4705342c6b31",
   "metadata": {
    "tags": []
   },
   "outputs": [],
   "source": [
    "# Data Collection for Length vs Period\n",
    "\n",
    "# Example data: (length, period)\n",
    "# You should replace this data with what you collect from the PhET simulation.\n",
    "\n",
    "length_vs_period_data = [\n",
    "    (0.25, 1.0),\n",
    "    (0.50, 1.4),\n",
    "    (1.00, 2.0),\n",
    "    (1.50, 2.45),\n",
    "    (2.00, 2.8)\n",
    "]\n",
    "\n",
    "lengths = [item[0] for item in length_vs_period_data]\n",
    "periods_length = [item[1] for item in length_vs_period_data]\n"
   ]
  },
  {
   "cell_type": "markdown",
   "id": "8262d90c-34fb-411c-ba88-7330cc202f2b",
   "metadata": {},
   "source": [
    "2. Mass vs Period:\n",
    "Adjust the pendulum to a constant length. Change the mass of the pendulum and measure the period for each mass. Record at least 5 values."
   ]
  },
  {
   "cell_type": "code",
   "execution_count": null,
   "id": "836bac7a-b733-4c38-bdca-63eb794c7082",
   "metadata": {
    "tags": []
   },
   "outputs": [],
   "source": [
    "# Data Collection for Mass vs Period\n",
    "\n",
    "# Example data: (mass, period)\n",
    "# You should replace this data with what you collect from the PhET simulation.\n",
    "\n",
    "mass_vs_period_data = [\n",
    "    (0.5, 2.0),\n",
    "    (1.0, 2.0),\n",
    "    (1.5, 2.0),\n",
    "    (2.0, 2.0),\n",
    "    (2.5, 2.0)\n",
    "]\n",
    "\n",
    "masses = [item[0] for item in mass_vs_period_data]\n",
    "periods_mass = [item[1] for item in mass_vs_period_data]\n"
   ]
  },
  {
   "cell_type": "markdown",
   "id": "b2046573-4e2b-49ce-81bb-f1147b5d9353",
   "metadata": {},
   "source": [
    "### Data Plotting:\n",
    "**1. Length vs Period:**"
   ]
  },
  {
   "cell_type": "code",
   "execution_count": null,
   "id": "91ec4a9a-662a-4e5e-b8c7-8ed57e8a6014",
   "metadata": {
    "tags": []
   },
   "outputs": [],
   "source": [
    "import matplotlib.pyplot as plt\n",
    "\n",
    "plt.figure(figsize=(10, 6))\n",
    "plt.plot(lengths, periods_length, 'o-', label='Period vs Length')\n",
    "plt.title(\"Period vs. Length of Pendulum\")\n",
    "plt.xlabel(\"Length (m)\")\n",
    "plt.ylabel(\"Period (s)\")\n",
    "plt.grid(True)\n",
    "plt.legend()\n",
    "plt.show()\n"
   ]
  },
  {
   "cell_type": "markdown",
   "id": "5e7973f8-e8b3-48c2-837b-ddbc2a422873",
   "metadata": {},
   "source": [
    "**2. Mass vs Period:**"
   ]
  },
  {
   "cell_type": "code",
   "execution_count": null,
   "id": "687492bf-3ce3-4dce-a31c-8988d5f8006a",
   "metadata": {
    "tags": []
   },
   "outputs": [],
   "source": [
    "#Adapt the code from \"1. Length vs Period\" to plot the relationship between Mass vs Period.\n",
    "\n"
   ]
  },
  {
   "cell_type": "markdown",
   "id": "f8909ae2-c6a4-4ca5-af40-a10ce43d5686",
   "metadata": {},
   "source": [
    "### Questions\n",
    "\n",
    "1. How does the period of the pendulum change as you increase its length? Is the relationship linear, quadratic, or some other type?\n",
    "\n"
   ]
  },
  {
   "cell_type": "markdown",
   "id": "96ed8722-fd44-453a-8cdd-57e8cee92214",
   "metadata": {},
   "source": []
  },
  {
   "cell_type": "markdown",
   "id": "3eb47491-920e-409b-8219-23033f6ef9e6",
   "metadata": {},
   "source": [
    "2. Were there any noticeable changes in the period of the pendulum as you altered the mass of the bob? Explain your observations."
   ]
  },
  {
   "cell_type": "markdown",
   "id": "30928953-397b-4674-b0d8-04ca7008948c",
   "metadata": {},
   "source": []
  },
  {
   "cell_type": "markdown",
   "id": "96caa1c0-140f-4c18-afd6-53ddfeba0269",
   "metadata": {},
   "source": [
    "3. Compare your experimental results with the theoretical equation for the period of a simple pendulum. Did your observations align with the theoretical predictions?"
   ]
  },
  {
   "cell_type": "markdown",
   "id": "15f3128a-1c77-4c40-ab81-e4317363401b",
   "metadata": {},
   "source": []
  },
  {
   "cell_type": "markdown",
   "id": "bf43ca37-81ee-40ca-b11d-47b77b72a649",
   "metadata": {},
   "source": [
    "4. How might the period of the pendulum change if this experiment were conducted on another planet (like Mars or Jupiter)? Explain your reasoning based on the theoretical background."
   ]
  },
  {
   "cell_type": "code",
   "execution_count": null,
   "id": "97889d42-c72f-4083-91d2-c67de0c1475f",
   "metadata": {},
   "outputs": [],
   "source": []
  },
  {
   "cell_type": "markdown",
   "id": "4ffec11d-2618-496f-b565-a744ff6ef3b2",
   "metadata": {},
   "source": [
    "### Case Scenario: The Clockmaker's Dilemma\n",
    "Background: In the city of Pendulumville, two renowned clockmakers, Alistair and Beatrice, are having a heated debate about the design of a new town clock, which will use a large pendulum.\n",
    "\n",
    "Alistair's View: Alistair believes that the pendulum for the new town clock should be made much heavier than previous designs. He argues that a heavier pendulum bob will be less affected by minor disturbances like wind or vibration, ensuring that the clock remains more consistent in its timekeeping.\n",
    "\n",
    "Beatrice's View: Beatrice, on the other hand, insists that the mass of the pendulum bob won't affect its period. She believes that the resources allocated for making a heavier bob would be better spent on refining the clock's other mechanisms or beautifying its exterior.\n",
    "\n",
    "The city council, unsure of whom to side with, calls upon a team of scientists (the students) to use the argumentation framework to weigh both perspectives and provide a recommendation."
   ]
  },
  {
   "cell_type": "code",
   "execution_count": null,
   "id": "4c51fa9b-6a9a-4a25-a631-a1abcc477d68",
   "metadata": {},
   "outputs": [],
   "source": []
  }
 ],
 "metadata": {
  "kernelspec": {
   "display_name": "Python 3 (ipykernel)",
   "language": "python",
   "name": "python3"
  },
  "language_info": {
   "codemirror_mode": {
    "name": "ipython",
    "version": 3
   },
   "file_extension": ".py",
   "mimetype": "text/x-python",
   "name": "python",
   "nbconvert_exporter": "python",
   "pygments_lexer": "ipython3",
   "version": "3.11.3"
  }
 },
 "nbformat": 4,
 "nbformat_minor": 5
}
