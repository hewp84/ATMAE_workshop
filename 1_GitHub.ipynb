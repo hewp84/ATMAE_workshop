{
 "cells": [
  {
   "cell_type": "markdown",
   "id": "b06a6436-b1bc-4b72-9e93-99e5538f3c43",
   "metadata": {},
   "source": [
    "# Introduction to GitHub\n",
    "\n",
    "GitHub is a platform that allows developers to collaborate on software projects. It utilizes Git, a distributed version control system.\n",
    "\n",
    "## 1. Setting Up Your GitHub Account\n",
    "#### Step 1: Sign Up\n",
    "* Go to [GitHub](https://github.com/).\n",
    "* Click on \"Sign up\".\n",
    "* Fill out the required information and click \"Create account\".\n"
   ]
  },
  {
   "cell_type": "markdown",
   "id": "246caf64-ebbf-4b7c-ad21-11be37499d1f",
   "metadata": {},
   "source": [
    "#### Step 2: Complete Setup\n",
    "* Choose a plan (Free should be fine for most users to start with).\n",
    "* Answer the optional questions if you'd like, and proceed.\n"
   ]
  },
  {
   "cell_type": "markdown",
   "id": "ac70e10e-e064-421b-aa48-f22537b71c68",
   "metadata": {},
   "source": [
    "## 2. Creating a Repository\n",
    "* A repository (or \"repo\") is where your project will live. It contains all the files, commits, and history of your project."
   ]
  },
  {
   "cell_type": "markdown",
   "id": "827e0cbe-8a17-49b9-bed6-d411aa063e16",
   "metadata": {},
   "source": [
    "#### Step 1: Create a New Repository\n",
    "* Once logged in, click on the \"+\" icon in the top right corner.\n",
    "* Select \"New repository\".\n",
    "* Name your repository.\n",
    "* Choose whether it should be public (visible to everyone) or private (visible only to you and collaborators you invite).\n",
    "* You can initialize the repository with a README, .gitignore, or a license. For now, initialize with a README.\n",
    "* Click \"Create repository\".\n",
    "\n",
    "![Create Repository Form](images/repo.png)"
   ]
  },
  {
   "cell_type": "markdown",
   "id": "67728154-8077-496c-9042-2bcd7a6b2506",
   "metadata": {},
   "source": [
    "## 3. Pull and Push - Basics of Git\n",
    "### pull:\n",
    "* This command fetches the changes from a remote repository (like GitHub) to your local machine. You'd use this to update your local copy with new commits from the remote repo.\n",
    "\n",
    "### push:\n",
    "* This command sends your local commits to the remote repository. When you make a change and commit it locally, you use push to send those changes to the remote repo on GitHub.\n",
    "\n",
    "![Credit to https://www.studytonight.com/git-guide/git-pull](images/push_pull.png)"
   ]
  },
  {
   "cell_type": "markdown",
   "id": "bad57ea3-30b3-4668-8b8f-a5aab32b89be",
   "metadata": {},
   "source": [
    "## 4. GitHub Desktop - GUI for Git\n",
    "#### Step 1: Download and Install\n",
    "* Go to [GitHub Desktop's website](https://desktop.github.com/).\n",
    "* Download and install the application."
   ]
  },
  {
   "cell_type": "markdown",
   "id": "4f586cdf-e796-4342-bd86-d2631c562fa8",
   "metadata": {},
   "source": [
    "#### Step 2: Connect to Your Account\n",
    "* Open GitHub Desktop.\n",
    "* Go to File > Options.\n",
    "* Under Accounts, sign in using your GitHub credentials."
   ]
  },
  {
   "cell_type": "markdown",
   "id": "cfec367b-3fc0-431f-8147-2f2ab8592831",
   "metadata": {},
   "source": [
    "#### Step 3: Cloning a Repository\n",
    "* Open GitHub Desktop.\n",
    "* Click on \"Clone a Repository\".\n",
    "* Choose the repo you want to clone (usually from the list of your repos).\n",
    "* Choose a local path where you'd like the repo to be stored.\n",
    "* Click \"Clone\"."
   ]
  },
  {
   "cell_type": "markdown",
   "id": "0e052a36-4fba-489b-a4ed-8681a1d5f9be",
   "metadata": {},
   "source": [
    "#### Step 4: Making Changes and Committing\n",
    "* Modify or add files in your local repo using any editor.\n",
    "* Open GitHub Desktop.\n",
    "* You'll see the changes listed.\n",
    "* Add a summary (and optional description) for the change.\n",
    "* Click \"Commit to main\" (or the current branch name)."
   ]
  },
  {
   "cell_type": "markdown",
   "id": "acb44d63-7725-4edd-b6d1-83554f33ae79",
   "metadata": {},
   "source": [
    "#### Step 5: Pushing Changes\n",
    "* After committing, click \"Push origin\" to send the changes to the remote GitHub repo."
   ]
  },
  {
   "cell_type": "markdown",
   "id": "2dd0e022-090a-4062-8393-266bcbeea4ea",
   "metadata": {},
   "source": [
    "#### Step 6: Pulling Changes\n",
    "* If you or someone else made changes directly on the GitHub site (or another computer), you'd want to update your local copy.\n",
    "* Click \"Fetch origin\" in GitHub Desktop.\n",
    "* If there are new changes, click \"Pull origin\"."
   ]
  },
  {
   "cell_type": "code",
   "execution_count": null,
   "id": "9fcbd697-8206-4f0b-813e-ffa6c74f97c5",
   "metadata": {},
   "outputs": [],
   "source": []
  }
 ],
 "metadata": {
  "kernelspec": {
   "display_name": "Python 3 (ipykernel)",
   "language": "python",
   "name": "python3"
  },
  "language_info": {
   "codemirror_mode": {
    "name": "ipython",
    "version": 3
   },
   "file_extension": ".py",
   "mimetype": "text/x-python",
   "name": "python",
   "nbconvert_exporter": "python",
   "pygments_lexer": "ipython3",
   "version": "3.11.3"
  }
 },
 "nbformat": 4,
 "nbformat_minor": 5
}
